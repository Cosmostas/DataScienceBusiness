
{
 "cells": [
  {
   "cell_type": "markdown",
   "metadata": {},
   "source": [
    "ÐÐ²Ñ‚Ð¾Ñ€ Ð¼Ð°Ñ‚ÐµÑ€Ð¸Ð°Ð»Ð°: Ð—Ñ€Ð°ÐµÐ² ÐÑ€Ñ‚ÐµÐ¼.\n",
    "\n",
    "ÐœÐ¾Ð¶Ð½Ð¾ Ð¸ÑÐ¿Ð¾Ð»ÑŒÐ·Ð¾Ð²Ð°Ñ‚ÑŒ Ð² ÐºÐ°ÐºÐ¸Ñ… ÑƒÐ³Ð¾Ð´Ð½Ð¾ Ñ†ÐµÐ»ÑÑ…."
   ]
  },
  {
   "cell_type": "markdown",
   "metadata": {},
   "source": [
    "<b> Ð’ Ð·Ð°Ð´Ð°Ð½Ð¸Ð¸ Ð½ÑƒÐ¶Ð½Ð¾ Ð·Ð°Ð³Ñ€ÑƒÐ·Ð¸Ñ‚ÑŒ Ð´Ð°Ñ‚Ð°ÑÐµÑ‚ Ñ Ð´Ð°Ð½Ð½Ñ‹Ð¼Ð¸ Ð¾Ñ‚Ñ‚Ð¾ÐºÐ° Ð¸ Ð¾Ñ‚Ð²ÐµÑ‚Ð¸Ñ‚ÑŒ Ð½Ð° Ð½ÐµÑÐºÐ¾Ð»ÑŒÐºÐ¾ Ð²Ð¾Ð¿Ñ€Ð¾ÑÐ¾Ð² (Ð½Ð°Ð¿Ð¸ÑÐ°Ñ‚ÑŒ ÐºÐ¾Ð´). ÐŸÑ€Ð¸ ÑÑ‚Ð¾Ð¼ ÑÐ°Ð¼ Ð´Ð°Ñ‚Ð°ÑÐµÑ‚ ÑƒÐ¶Ðµ ÐµÑÑ‚ÑŒ Ð¸ ÐµÐ³Ð¾ Ð½ÐµÐ¾Ð±ÑÐ·Ð°Ñ‚ÐµÐ»ÑŒÐ½Ð¾ ÐºÐ°Ñ‡Ð°Ñ‚ÑŒ Ñ Ñ€ÐµÐ¿Ð¾Ð·Ð¸Ñ‚Ð¾Ñ€Ð¸Ñ</b>"
   ]
  },
  {
   "cell_type": "markdown",
   "metadata": {},
   "source": [
    "Ð¦ÐµÐ»ÑŒ Ð·Ð°Ð´Ð°Ð½Ð¸Ñ: Ð¿Ñ€Ð¾Ð²ÐµÑ€Ð¸Ñ‚ÑŒ Ð±Ð°Ð·Ð¾Ð²Ñ‹Ðµ Ð½Ð°Ð²Ñ‹ÐºÐ¸ Ñ€Ð°Ð±Ð¾Ñ‚Ñ‹ ÑÑ‚ÑƒÐ´ÐµÐ½Ñ‚Ð¾Ð² Ñ Pandas, ÑƒÐ¼ÐµÐ½Ð¸Ðµ Ð¿Ñ€Ð¾Ð²Ð¾Ð´Ð¸Ñ‚ÑŒ Ñ‚Ð°ÐºÐ¾Ð¹ Ð¶Ðµ Ð±Ð°Ð·Ð¾Ð²Ñ‹Ð¹ EDA (exploratory data analysis), Ð´ÐµÐ»Ð°Ñ‚ÑŒ feature engineering Ð¸ Ð¾Ð±ÑƒÑ‡Ð°Ñ‚ÑŒ Ð¸ Ð²Ð°Ð»Ð¸Ð´Ð¸Ñ€Ð¾Ð²Ð°Ñ‚ÑŒ Ð¼Ð¾Ð´ÐµÐ»ÑŒ."
   ]
  },
  {
   "cell_type": "markdown",
   "metadata": {},
   "source": [
    "Ð¡Ð¿Ð¸ÑÐ¾Ðº ÑÑ‚Ð¾Ð»Ð±Ñ†Ð¾Ð² Ñ Ñ‚Ð¸Ð¿Ð°Ð¼Ð¸ Ð´Ð°Ð½Ð½Ñ‹Ñ… Ð² Ð´Ð°Ñ‚Ð°ÑÐµÑ‚Ðµ:\n",
    "\n",
    "- customerID           object\n",
    "- gender               object\n",
    "- SeniorCitizen         int64\n",
    "- Partner              object\n",
    "- Dependents           object\n",
    "- tenure                int64\n",
    "- PhoneService         object\n",
    "- MultipleLines        object\n",
    "- InternetService      object\n",
    "- OnlineSecurity       object\n",
    "- OnlineBackup         object\n",
    "- DeviceProtection     object\n",
    "- TechSupport          object\n",
    "- StreamingTV          object\n",
    "- StreamingMovies      object\n",
    "- Contract             object\n",
    "- PaperlessBilling     object\n",
    "- PaymentMethod        object\n",
    "- MonthlyCharges      float64\n",
    "- TotalCharges         object\n",
    "- Churn                object"
   ]
  },
  {
   "cell_type": "code",
   "execution_count": 1,
   "metadata": {},
   "outputs": [
    {
     "data": {
      "text/html": [
       "<div>\n",
       "<style scoped>\n",
       "    .dataframe tbody tr th:only-of-type {\n",
       "        vertical-align: middle;\n",
       "    }\n",
       "\n",
       "    .dataframe tbody tr th {\n",
       "        vertical-align: top;\n",
       "    }\n",
       "\n",
       "    .dataframe thead th {\n",
       "        text-align: right;\n",
       "    }\n",
       "</style>\n",
       "<table border=\"1\" class=\"dataframe\">\n",
       "  <thead>\n",
       "    <tr style=\"text-align: right;\">\n",
       "      <th></th>\n",
       "      <th>customerID</th>\n",
       "      <th>gender</th>\n",
       "      <th>SeniorCitizen</th>\n",
       "      <th>Partner</th>\n",
       "      <th>Dependents</th>\n",
       "      <th>tenure</th>\n",
       "      <th>PhoneService</th>\n",
       "      <th>MultipleLines</th>\n",
       "      <th>InternetService</th>\n",
       "      <th>OnlineSecurity</th>\n",
       "      <th>...</th>\n",
       "      <th>DeviceProtection</th>\n",
       "      <th>TechSupport</th>\n",
       "      <th>StreamingTV</th>\n",
       "      <th>StreamingMovies</th>\n",
       "      <th>Contract</th>\n",
       "      <th>PaperlessBilling</th>\n",
       "      <th>PaymentMethod</th>\n",
       "      <th>MonthlyCharges</th>\n",
       "      <th>TotalCharges</th>\n",
       "      <th>Churn</th>\n",
       "    </tr>\n",
       "  </thead>\n",
       "  <tbody>\n",
       "    <tr>\n",
       "      <th>0</th>\n",
       "      <td>7590-VHVEG</td>\n",
       "      <td>Female</td>\n",
       "      <td>0</td>\n",
       "      <td>Yes</td>\n",
       "      <td>No</td>\n",
       "      <td>1</td>\n",
       "      <td>No</td>\n",
       "      <td>No phone service</td>\n",
       "      <td>DSL</td>\n",
       "      <td>No</td>\n",
       "      <td>...</td>\n",
       "      <td>No</td>\n",
       "      <td>No</td>\n",
       "      <td>No</td>\n",
       "      <td>No</td>\n",
       "      <td>Month-to-month</td>\n",
       "      <td>Yes</td>\n",
       "      <td>Electronic check</td>\n",
       "      <td>29.85</td>\n",
       "      <td>29.85</td>\n",
       "      <td>No</td>\n",
       "    </tr>\n",
       "    <tr>\n",
       "      <th>1</th>\n",
       "      <td>5575-GNVDE</td>\n",
       "      <td>Male</td>\n",
       "      <td>0</td>\n",
       "      <td>No</td>\n",
       "      <td>No</td>\n",
       "      <td>34</td>\n",
       "      <td>Yes</td>\n",
       "      <td>No</td>\n",
       "      <td>DSL</td>\n",
       "      <td>Yes</td>\n",
       "      <td>...</td>\n",
       "      <td>Yes</td>\n",
       "      <td>No</td>\n",
       "      <td>No</td>\n",
       "      <td>No</td>\n",
       "      <td>One year</td>\n",
       "      <td>No</td>\n",
       "      <td>Mailed check</td>\n",
       "      <td>56.95</td>\n",
       "      <td>1889.5</td>\n",
       "      <td>No</td>\n",
       "    </tr>\n",
       "    <tr>\n",
       "      <th>2</th>\n",
       "      <td>3668-QPYBK</td>\n",
       "      <td>Male</td>\n",
       "      <td>0</td>\n",
       "      <td>No</td>\n",
       "      <td>No</td>\n",
       "      <td>2</td>\n",
       "      <td>Yes</td>\n",
       "      <td>No</td>\n",
       "      <td>DSL</td>\n",
       "      <td>Yes</td>\n",
       "      <td>...</td>\n",
       "      <td>No</td>\n",
       "      <td>No</td>\n",
       "      <td>No</td>\n",
       "      <td>No</td>\n",
       "      <td>Month-to-month</td>\n",
       "      <td>Yes</td>\n",
       "      <td>Mailed check</td>\n",
       "      <td>53.85</td>\n",
       "      <td>108.15</td>\n",
       "      <td>Yes</td>\n",
       "    </tr>\n",
       "  </tbody>\n",
       "</table>\n",
       "<p>3 rows Ã— 21 columns</p>\n",
       "</div>"
      ],
      "text/plain": [
       "   customerID  gender  SeniorCitizen Partner Dependents  tenure PhoneService  \\\n",
       "0  7590-VHVEG  Female              0     Yes         No       1           No   \n",
       "1  5575-GNVDE    Male              0      No         No      34          Yes   \n",
       "2  3668-QPYBK    Male              0      No         No       2          Yes   \n",
       "\n",
       "      MultipleLines InternetService OnlineSecurity  ... DeviceProtection  \\\n",
       "0  No phone service             DSL             No  ...               No   \n",
       "1                No             DSL            Yes  ...              Yes   \n",
       "2                No             DSL            Yes  ...               No   \n",
       "\n",
       "  TechSupport StreamingTV StreamingMovies        Contract PaperlessBilling  \\\n",
       "0          No          No              No  Month-to-month              Yes   \n",
       "1          No          No              No        One year               No   \n",
       "2          No          No              No  Month-to-month              Yes   \n",
       "\n",
       "      PaymentMethod MonthlyCharges  TotalCharges Churn  \n",
       "0  Electronic check          29.85         29.85    No  \n",
       "1      Mailed check          56.95        1889.5    No  \n",
       "2      Mailed check          53.85        108.15   Yes  \n",
       "\n",
       "[3 rows x 21 columns]"
      ]
     },
     "execution_count": 1,
     "metadata": {},
     "output_type": "execute_result"
    }
   ],
   "source": [
    "import pandas as pd\n",
    "import numpy as np\n",
    "\n",
    "df = pd.read_csv(\"./WA_Fn-UseC_-Telco-Customer-Churn.csv\")\n",
    "df.head(3)"
   ]
  },
  {
   "cell_type": "markdown",
   "metadata": {},
   "source": [
    "##### 1. ÐšÐ°ÐºÐ¾Ðµ ÑÐ¾Ð¾Ñ‚Ð½Ð¾ÑˆÐµÐ½Ð¸Ðµ Ð¼ÑƒÐ¶Ñ‡Ð¸Ð½ Ð¸ Ð¶ÐµÐ½Ñ‰Ð¸Ð½ Ð² Ð¿Ñ€ÐµÐ´ÑÑ‚Ð°Ð²Ð»ÐµÐ½Ð½Ð¾Ð¼ Ð½Ð°Ð±Ð¾Ñ€Ðµ Ð´Ð°Ð½Ð½Ñ‹Ñ…?"
   ]
  },
  {
   "cell_type": "code",
   "execution_count": null,
   "metadata": {},
   "outputs": [],
   "source": [
    "#Ð’Ð°Ñˆ ÐºÐ¾Ð´ Ð·Ð´ÐµÑÑŒ"
   ]
  },
  {
   "cell_type": "markdown",
   "metadata": {},
   "source": [
    "##### 2. ÐšÐ°ÐºÐ¾Ðµ ÐºÐ¾Ð»Ð¸Ñ‡ÐµÑÑ‚Ð²Ð¾ ÑƒÐ½Ð¸ÐºÐ°Ð»ÑŒÐ½Ñ‹Ñ… Ð·Ð½Ð°Ñ‡ÐµÐ½Ð¸Ð¹ Ñƒ Ð¿Ð¾Ð»Ñ InternetService?"
   ]
  },
  {
   "cell_type": "code",
   "execution_count": null,
   "metadata": {},
   "outputs": [],
   "source": [
    "#Ð’Ð°Ñˆ ÐºÐ¾Ð´ Ð·Ð´ÐµÑÑŒ"
   ]
  },
  {
   "cell_type": "markdown",
   "metadata": {},
   "source": [
    "##### 3. Ð’Ñ‹Ð²ÐµÐ´Ð¸Ñ‚Ðµ ÑÑ‚Ð°Ñ‚Ð¸ÑÑ‚Ð¸ÐºÐ¸ Ð¿Ð¾ Ð¿Ð¾Ð»ÑŽ TotalCharges (median, mean, std)."
   ]
  },
  {
   "cell_type": "code",
   "execution_count": null,
   "metadata": {},
   "outputs": [],
   "source": [
    "#Ð’Ð°Ñˆ ÐºÐ¾Ð´ Ð·Ð´ÐµÑÑŒ"
   ]
  },
  {
   "cell_type": "markdown",
   "metadata": {},
   "source": [
    "Ð’ Ñ‡ÐµÐ¼ ÑÑ‚Ñ€Ð°Ð½Ð½Ð¾ÑÑ‚ÑŒ Ñ‚Ð¾Ð³Ð¾, Ñ‡Ñ‚Ð¾ Ð²Ñ‹ Ð¿Ð¾Ð»ÑƒÑ‡Ð¸Ð»Ð¸? (Ð¿Ð¾Ð´ÑÐºÐ°Ð·ÐºÐ°: ÑÐ¼Ð¾Ñ‚Ñ€ÐµÑ‚ÑŒ Ð½ÑƒÐ¶Ð½Ð¾ Ð½Ð° Ñ‚Ð¸Ð¿ Ð´Ð°Ð½Ð½Ñ‹Ñ…)"
   ]
  },
  {
   "cell_type": "markdown",
   "metadata": {},
   "source": [
    "##### 4. Ð¡Ð´ÐµÐ»Ð°Ð¹Ñ‚Ðµ Ð·Ð°Ð¼ÐµÐ½Ñƒ Ð·Ð½Ð°Ñ‡ÐµÐ½Ð¸Ð¹ Ð¿Ð¾Ð»Ñ PhoneService  Ð½Ð° Ñ‡Ð¸ÑÐ»Ð¾Ð²Ñ‹Ðµ (Yes->1, No->0)"
   ]
  },
  {
   "cell_type": "code",
   "execution_count": null,
   "metadata": {},
   "outputs": [],
   "source": [
    "#Ð’Ð°Ñˆ ÐºÐ¾Ð´ Ð·Ð´ÐµÑÑŒ"
   ]
  },
  {
   "cell_type": "markdown",
   "metadata": {},
   "source": [
    "##### 5. Ð¡Ð´ÐµÐ»Ð°Ð¹Ñ‚Ðµ Ð·Ð°Ð¼ÐµÐ½Ñƒ Ð¿Ñ€Ð¾Ð±ÐµÐ»Ð¾Ð² Ð² Ð¿Ð¾Ð»Ðµ TotalCharges Ð½Ð° np.nan Ð¸ Ð¿Ñ€Ð¸Ð²ÐµÐ´Ð¸Ñ‚Ðµ Ð¿Ð¾Ð»Ðµ Ðº Ñ‚Ð¸Ð¿Ñƒ Ð´Ð°Ð½Ð½Ñ‹Ñ… float32. Ð—Ð°Ñ‚ÐµÐ¼ Ð·Ð°Ð¿Ð¾Ð»Ð½Ð¸Ñ‚Ðµ Ð¾ÑÑ‚Ð°Ð²ÑˆÐ¸ÐµÑÑ Ð¿Ñ€Ð¾Ð¿ÑƒÑÐºÐ¸ Ð·Ð½Ð°Ñ‡ÐµÐ½Ð¸ÐµÐ¼ 0 Ñ Ð¿Ð¾Ð¼Ð¾Ñ‰ÑŒÑŽ Ð¼ÐµÑ‚Ð¾Ð´Ð° fillna Ñƒ ÑÑ‚Ð¾Ð»Ð±Ñ†Ð°. Ð¡Ð½Ð¾Ð²Ð° Ð²Ñ‹Ð²ÐµÐ´Ð¸Ñ‚Ðµ ÑÑ‚Ð°Ñ‚Ð¸ÑÑ‚Ð¸ÐºÐ¸ Ð¸ ÑÑ€Ð°Ð²Ð½Ð¸Ñ‚Ðµ Ñ Ñ‚ÐµÐ¼, Ñ‡Ñ‚Ð¾ Ð²Ñ‹ Ð²Ð¸Ð´ÐµÐ»Ð¸ Ð² Ð²Ð¾Ð¿Ñ€Ð¾ÑÐµ 3"
   ]
  },
  {
   "cell_type": "code",
   "execution_count": null,
   "metadata": {},
   "outputs": [],
   "source": [
    "#Ð’Ð°Ñˆ ÐºÐ¾Ð´ Ð·Ð´ÐµÑÑŒ"
   ]
  },
  {
   "cell_type": "markdown",
   "metadata": {},
   "source": [
    "##### 6. Ð¡Ð´ÐµÐ»Ð°Ð¹Ñ‚Ðµ Ð·Ð°Ð¼ÐµÐ½Ñƒ Ð·Ð½Ð°Ñ‡ÐµÐ½Ð¸Ð¹ Ð¿Ð¾Ð»Ñ Churn Ð½Ð° Ñ‡Ð¸ÑÐ»Ð¾Ð²Ñ‹Ðµ (Yes -> 1, No - 0)"
   ]
  },
  {
   "cell_type": "code",
   "execution_count": null,
   "metadata": {},
   "outputs": [],
   "source": [
    "#Ð’Ð°Ñˆ ÐºÐ¾Ð´ Ð·Ð´ÐµÑÑŒ"
   ]
  },
  {
   "cell_type": "markdown",
   "metadata": {},
   "source": [
    "##### 7. Ð¡Ð´ÐµÐ»Ð°Ð¹Ñ‚Ðµ Ð·Ð°Ð¼ÐµÐ½Ñƒ Ð·Ð½Ð°Ñ‡ÐµÐ½Ð¸Ð¹ Ð¿Ð¾Ð»ÐµÐ¹ StreamingMovies, StreamingTV, TechSupport  Ð½Ð° Ñ‡Ð¸ÑÐ»Ð¾Ð²Ñ‹Ðµ (Yes -> 1, No -> 0, No internet service->0)"
   ]
  },
  {
   "cell_type": "code",
   "execution_count": null,
   "metadata": {},
   "outputs": [],
   "source": [
    "#Ð’Ð°Ñˆ ÐºÐ¾Ð´ Ð·Ð´ÐµÑÑŒ"
   ]
  },
  {
   "cell_type": "markdown",
   "metadata": {},
   "source": [
    "##### 8. Ð—Ð°Ð¿Ð¾Ð»Ð½Ð¸Ñ‚Ðµ Ð¿Ñ€Ð¾Ð¿ÑƒÑÐºÐ¸ Ð² Ð¿Ð¾Ð»Ðµ PhoneService Ð·Ð½Ð°Ñ‡ÐµÐ½Ð¸ÐµÐ¼ 0"
   ]
  },
  {
   "cell_type": "code",
   "execution_count": null,
   "metadata": {},
   "outputs": [],
   "source": [
    "#Ð’Ð°Ñˆ ÐºÐ¾Ð´ Ð·Ð´ÐµÑÑŒ"
   ]
  },
  {
   "cell_type": "markdown",
   "metadata": {},
   "source": [
    "#### 8. Ð”Ð»Ñ Ð½Ð°ÑˆÐµÐ³Ð¾ Ð´Ð°Ñ‚Ð°ÑÐµÑ‚Ð° Ð¾ÑÑ‚Ð°Ð²ÑŒÑ‚Ðµ Ñ‚Ð¾Ð»ÑŒÐºÐ¾ ÑƒÐºÐ°Ð·Ð°Ð½Ð½Ñ‹Ð¹ Ð½Ð¸Ð¶Ðµ ÑÐ¿Ð¸ÑÐ¾Ðº Ð¿Ð¾Ð»ÐµÐ¹, ÑƒÐ´Ð°Ð»Ð¸Ð² Ð²ÑÐµ Ð´Ñ€ÑƒÐ³Ð¸Ðµ Ð¸ Ð²Ñ‹Ð²ÐµÐ´Ð¸Ñ‚Ðµ Ð²ÐµÑ€Ñ…Ð½Ð¸Ðµ 3 ÑÑ‚Ñ€Ð¾ÐºÐ¸"
   ]
  },
  {
   "cell_type": "code",
   "execution_count": null,
   "metadata": {},
   "outputs": [],
   "source": [
    "columns = ['gender', 'tenure', 'PhoneService', 'TotalCharges', \n",
    "           'StreamingMovies', 'StreamingTV', 'TechSupport', 'Churn']\n",
    "#Ð’Ð°Ñˆ ÐºÐ¾Ð´ Ð·Ð´ÐµÑÑŒ\n",
    "\n"
   ]
  },
  {
   "cell_type": "markdown",
   "metadata": {},
   "source": [
    "##### 9. Ð Ð°Ð·Ð´ÐµÐ»Ð¸Ñ‚Ðµ Ð´Ð°Ñ‚Ð°ÑÐµÑ‚ Ð½Ð° Ñ‚Ñ€ÐµÐ½Ð¸Ñ€Ð¾Ð²Ð¾Ñ‡Ð½ÑƒÑŽ Ð¸ Ñ‚ÐµÑÑ‚Ð¾Ð²ÑƒÑŽ Ð²Ñ‹Ð±Ð¾Ñ€ÐºÑƒ (Ð¿Ð¾Ð´ÑÐºÐ°Ð·ÐºÐ° - Ð²Ð¾ÑÐ¿Ð¾Ð»ÑŒÐ·ÑƒÐ¹Ñ‚ÐµÑÑŒ train_test_split Ð¸Ð· sklearn.model_selection. Ð¡ÑÑ‹Ð»ÐºÐ° - https://scikit-learn.org/stable/modules/generated/sklearn.model_selection.train_test_split.html)"
   ]
  },
  {
   "cell_type": "code",
   "execution_count": null,
   "metadata": {},
   "outputs": [],
   "source": [
    "from sklearn.model_selection import train_test_split\n",
    "\n",
    "features = ['gender', 'tenure', 'PhoneService', 'TotalCharges', 'StreamingMovies', 'StreamingTV', 'TechSupport']\n",
    "target = 'Churn'\n",
    "#Ð’Ð°Ñˆ ÐºÐ¾Ð´ Ð·Ð´ÐµÑÑŒ\n"
   ]
  },
  {
   "cell_type": "markdown",
   "metadata": {},
   "source": [
    "##### 10. ÑÐ¾Ð±ÐµÑ€Ð¸Ñ‚Ðµ pipeline Ð´Ð»Ñ Ð¿Ð¾Ð»Ñ gender (Ð½ÑƒÐ¶Ð½Ð¾ Ñ€Ð°Ð·Ð¾Ð±Ñ€Ð°Ñ‚ÑŒÑÑ Ð¸ Ð¸Ð·ÑƒÑ‡Ð¸Ñ‚ÑŒ https://scikit-learn.org/stable/modules/generated/sklearn.pipeline.Pipeline.html ) Ð¸Ð· ÐºÐ»Ð°ÑÑÐ¾Ð² ColumnSelector Ð¸ OHEEncoder, ÐºÐ¾Ñ‚Ð¾Ñ€Ñ‹Ðµ ÑƒÐ¶Ðµ Ð½Ð°Ð¿Ð¸ÑÐ°Ð½Ñ‹ Ð½Ð¸Ð¶Ðµ Ð·Ð°Ñ€Ð°Ð½ÐµÐµ"
   ]
  },
  {
   "cell_type": "code",
   "execution_count": null,
   "metadata": {},
   "outputs": [],
   "source": [
    "from sklearn.base import BaseEstimator, TransformerMixin\n",
    "from sklearn.pipeline import Pipeline\n",
    "\n",
    "class ColumnSelector(BaseEstimator, TransformerMixin):\n",
    "    \"\"\"\n",
    "    Transformer to select a single column from the data frame to perform additional transformations on\n",
    "    \"\"\"\n",
    "    def __init__(self, key):\n",
    "        self.key = key\n",
    "\n",
    "    def fit(self, X, y=None):\n",
    "        return self\n",
    "\n",
    "    def transform(self, X):\n",
    "        return X[self.key]\n",
    "    \n",
    "class NumberSelector(BaseEstimator, TransformerMixin):\n",
    "    \"\"\"\n",
    "    Transformer to select a single column from the data frame to perform additional transformations on\n",
    "    Use on numeric columns in the data\n",
    "    \"\"\"\n",
    "    def __init__(self, key):\n",
    "        self.key = key\n",
    "\n",
    "    def fit(self, X, y=None):\n",
    "        return self\n",
    "\n",
    "    def transform(self, X):\n",
    "        return X[[self.key]]\n",
    "    \n",
    "class OHEEncoder(BaseEstimator, TransformerMixin):\n",
    "    def __init__(self, key):\n",
    "        self.key = key\n",
    "        self.columns = []\n",
    "\n",
    "    def fit(self, X, y=None):\n",
    "        self.columns = [col for col in pd.get_dummies(X, prefix=self.key).columns]\n",
    "        return self\n",
    "\n",
    "    def transform(self, X):\n",
    "        X = pd.get_dummies(X, prefix=self.key)\n",
    "        test_columns = [col for col in X.columns]\n",
    "        for col_ in test_columns:\n",
    "            if col_ not in self.columns:\n",
    "                X[col_] = 0\n",
    "        return X[self.columns]\n",
    "\n",
    "gender = Pipeline([\n",
    "                ('selector', ColumnSelector(key='gender')),\n",
    "                ('ohe', OHEEncoder(key='gender'))\n",
    "            ])"
   ]
  },
  {
   "cell_type": "markdown",
   "metadata": {},
   "source": [
    "##### 11. Ð’Ñ‹Ð·Ð¾Ð²Ð¸Ñ‚Ðµ Ð¼ÐµÑ‚Ð¾Ð´ fit_transform Ñƒ Ð¿Ð°Ð¹Ð¿Ð»Ð°Ð¹Ð½Ð° gender Ð¸ Ð¿ÐµÑ€ÐµÐ´Ð°Ð¹Ñ‚Ðµ Ñ‚ÑƒÐ´Ð° Ð½Ð°ÑˆÑƒ Ñ‚Ñ€ÐµÐ½Ð¸Ñ€Ð¾Ð²Ð¾Ñ‡Ð½ÑƒÑŽ Ð²Ñ‹Ð±Ð¾Ñ€ÐºÑƒ (Ð¿Ñ€Ð¸Ð¼ÐµÑ€ Ð¿Ð¾ ÑÑÑ‹Ð»ÐºÐµ Ð¸Ð· Ð´Ð¾ÐºÑƒÐ¼ÐµÐ½Ñ‚Ð°Ñ†Ð¸Ð¸ https://scikit-learn.org/stable/modules/generated/sklearn.pipeline.Pipeline.html#sklearn.pipeline.Pipeline.fit)"
   ]
  },
  {
   "cell_type": "code",
   "execution_count": null,
   "metadata": {},
   "outputs": [],
   "source": [
    "#Ð’Ð°Ñˆ ÐºÐ¾Ð´ Ð·Ð´ÐµÑÑŒ\n"
   ]
  },
  {
   "cell_type": "markdown",
   "metadata": {},
   "source": [
    "##### 12. Ð—Ð´ÐµÑÑŒ ÐºÐ¾Ð´ Ð¿Ð¸ÑÐ°Ñ‚ÑŒ ÑƒÐ¶Ðµ Ð½Ðµ Ð½ÑƒÐ¶Ð½Ð¾ (Ð²ÑÐµ ÑÐ´ÐµÐ»Ð°Ð½Ð¾ Ð·Ð° Ð²Ð°Ñ). Ðš Ð¿Ð¾Ð»ÑŽ tenure Ð¿Ñ€Ð¸Ð¼ÐµÐ½ÑÐµÐ¼ StandardScaler (Ð½Ð¾Ñ€Ð¼Ð¸Ñ€ÑƒÐµÐ¼ Ð¸ Ñ†ÐµÐ½Ñ‚Ñ€Ð¸Ñ€ÑƒÐµÐ¼). Ð¡ÑÑ‹Ð»ÐºÐ° - https://scikit-learn.org/stable/modules/generated/sklearn.preprocessing.StandardScaler.html\n",
    "Ð’Ð¾Ð¿Ñ€Ð¾Ñ - Ð² ÐºÐ°ÐºÐ¸Ñ… ÑÐ»ÑƒÑ‡Ð°ÑÑ… ÑÑ‚Ð¾ Ð¼Ð¾Ð¶ÐµÑ‚ Ð±Ñ‹Ñ‚ÑŒ Ð¿Ð¾Ð»ÐµÐ·Ð½Ð¾?"
   ]
  },
  {
   "cell_type": "code",
   "execution_count": null,
   "metadata": {},
   "outputs": [],
   "source": [
    "from sklearn.preprocessing import StandardScaler\n",
    "\n",
    "tenure =  Pipeline([\n",
    "                ('selector', NumberSelector(key='tenure')),\n",
    "                ('standard', StandardScaler())\n",
    "            ])"
   ]
  },
  {
   "cell_type": "markdown",
   "metadata": {},
   "source": [
    "##### 13. ÐÐ°Ð¿Ð¸ÑˆÐ¸Ñ‚Ðµ Ð°Ð½Ð°Ð»Ð¾Ð³Ð¸Ñ‡Ð½Ñ‹Ð¹ (ÐºÐ°Ðº Ð´Ð»Ñ tenure) Ð¿Ñ€ÐµÐ¾Ð±Ñ€Ð°Ð·Ð¾Ð²Ð°Ñ‚ÐµÐ»ÑŒ Ð¿Ð¾Ð»Ñ TotalCharges"
   ]
  },
  {
   "cell_type": "code",
   "execution_count": null,
   "metadata": {},
   "outputs": [],
   "source": [
    "#Ð’Ð°Ñˆ ÐºÐ¾Ð´ Ð·Ð´ÐµÑÑŒ\n"
   ]
  },
  {
   "cell_type": "markdown",
   "metadata": {},
   "source": [
    "ÐžÐ±ÑŠÐµÐ´Ð¸Ð½ÐµÐ½Ð¸Ðµ Ð²ÑÐµÑ… \"ÐºÑƒÐ±Ð¸ÐºÐ¾Ð²\" Ð¾Ñ‡ÐµÐ½ÑŒ Ð»ÐµÐ³ÐºÐ¾ ÑÐ´ÐµÐ»Ð°Ñ‚ÑŒ Ñ‚Ð°ÐºÐ¸Ð¼ Ð¾Ð±Ñ€Ð°Ð·Ð¾Ð¼"
   ]
  },
  {
   "cell_type": "code",
   "execution_count": null,
   "metadata": {},
   "outputs": [],
   "source": [
    "from sklearn.pipeline import FeatureUnion\n",
    "\n",
    "number_features = Pipeline([\n",
    "                ('selector', ColumnSelector(key=['PhoneService',\n",
    "                                                 'StreamingMovies', 'StreamingTV', \n",
    "                                                 'TechSupport']))\n",
    "            ])"
   ]
  },
  {
   "cell_type": "code",
   "execution_count": null,
   "metadata": {},
   "outputs": [],
   "source": [
    "feats = FeatureUnion([('tenure', tenure),\n",
    "                      ('TotalCharges', TotalCharges),\n",
    "                      ('continuos_features', number_features),\n",
    "                      ('gender', gender)])\n",
    "feature_processing = Pipeline([('feats', feats)])"
   ]
  },
  {
   "cell_type": "markdown",
   "metadata": {},
   "source": [
    "ÐÐ° ÑÑ‚Ð¾Ð¼ ÑÑ‚Ð°Ð¿Ðµ Ñ‡Ñ‚Ð¾ Ð¼Ñ‹ ÑÐ´ÐµÐ»Ð°Ð»Ð¸:\n",
    "1. Ð½Ð°Ð¿Ð¸ÑÐ°Ð»Ð¸ Ð¿Ñ€ÐµÐ¾Ð±Ñ€Ð°Ð·Ð¾Ð²Ð°Ñ‚ÐµÐ»ÑŒ Ð¿Ð¾Ð»Ñ gender, ÐºÐ¾Ñ‚Ð¾Ñ€Ñ‹Ð¹ Ð´ÐµÐ»Ð°ÐµÑ‚ OHE ÐºÐ¾Ð´Ð¸Ñ€Ð¾Ð²Ð°Ð½Ð¸Ðµ\n",
    "2. Ð½Ð°Ð¿Ð¸ÑÐ°Ð»Ð¸ Ð¿Ñ€ÐµÐ¾Ð±Ñ€Ð°Ð·Ð¾Ð²Ð°Ñ‚ÐµÐ»ÑŒ Ð´Ð»Ñ Ð¿Ð¾Ð»Ñ tenure, ÐºÐ¾Ñ‚Ð¾Ñ€Ñ‹Ð¹ Ð½Ð¾Ñ€Ð¼Ð¸Ñ€ÑƒÐµÑ‚ Ð¸ Ñ†ÐµÐ½Ñ‚Ñ€Ð¸Ñ€ÑƒÐµÑ‚ ÐµÐ³Ð¾ \n",
    "3. Ð¿Ð¾Ð²Ñ‚Ð¾Ñ€Ð¸Ð»Ð¸ Ð¿. 2 Ð´Ð»Ñ Ð¿Ð¾Ð»Ñ TotalCharges\n",
    "3. Ð´Ð»Ñ Ð²ÑÐµÑ… Ð¾ÑÑ‚Ð°Ð»ÑŒÐ½Ñ‹Ñ… Ð¿Ñ€Ð¾ÑÑ‚Ð¾ Ð²Ð·ÑÐ»Ð¸ Ð¿Ñ€Ð¸Ð·Ð½Ð°ÐºÐ¸ ÐºÐ°Ðº Ð¾Ð½Ð¸ ÐµÑÑ‚ÑŒ, Ð±ÐµÐ· Ð¸Ð·Ð¼ÐµÐ½ÐµÐ½Ð¸Ð¹"
   ]
  },
  {
   "cell_type": "markdown",
   "metadata": {},
   "source": [
    "Ð£ Ð½Ð°Ñ ÑƒÐ¶Ðµ Ð³Ð¾Ñ‚Ð¾Ð² Ð½Ð°Ñˆ Ð¿Ð°Ð¹Ð¿Ð»Ð°Ð¹Ð½, ÐºÐ¾Ñ‚Ð¾Ñ€Ñ‹Ð¹ Ð¿Ñ€ÐµÐ¾Ð±Ñ€Ð°Ð·Ð¾Ð²Ñ‹Ð²Ð°ÐµÑ‚ Ð¿Ñ€Ð¸Ð·Ð½Ð°ÐºÐ¸. Ð”Ð°Ð²Ð°Ð¹Ñ‚Ðµ Ð¾Ð±ÑƒÑ‡Ð¸Ð¼ Ð¼Ð¾Ð´ÐµÐ»ÑŒ Ð¿Ð¾Ð²ÐµÑ€Ñ… Ð½ÐµÐ³Ð¾. Ð’ ÐºÐ°Ñ‡ÐµÑÑ‚Ð²Ðµ Ð¼Ð¾Ð´ÐµÐ»Ð¸ Ð²Ð¾Ð·ÑŒÐ¼ÐµÐ¼ RandomForestClassifier"
   ]
  },
  {
   "cell_type": "code",
   "execution_count": null,
   "metadata": {},
   "outputs": [],
   "source": [
    "from sklearn.ensemble import RandomForestClassifier\n",
    "\n",
    "pipeline = Pipeline([\n",
    "    ('features',feats),\n",
    "    ('classifier', RandomForestClassifier(random_state = 42)),\n",
    "])\n",
    "\n",
    "pipeline.fit(X_train, y_train)"
   ]
  },
  {
   "cell_type": "markdown",
   "metadata": {},
   "source": [
    "##### 14. Ð¡Ð´ÐµÐ»Ð°Ð¹Ñ‚Ðµ Ð¿Ñ€Ð¾Ð³Ð½Ð¾Ð· Ð²ÐµÑ€Ð¾ÑÑ‚Ð½Ð¾ÑÑ‚Ð¸ Ð¾Ñ‚Ñ‚Ð¾ÐºÐ° Ð´Ð»Ñ X_test Ñ Ð¿Ð¾Ð¼Ð¾Ñ‰ÑŒÑŽ Ð½Ð°ÑˆÐµÐ³Ð¾ Ð¿Ñ€ÐµÐ´Ð¾Ð±ÑƒÑ‡ÐµÐ½Ð½Ð¾Ð³Ð¾ Ð½Ð° Ð¿Ñ€ÐµÐ´Ñ‹Ð´ÑƒÑ‰ÐµÐ¼ ÑˆÐ°Ð³Ðµ Ð¿Ð°Ð¹Ð¿Ð»Ð°Ð¹Ð½Ð° Ð¸ ÑƒÐ±ÐµÐ´Ð¸Ñ‚ÐµÑÑŒ Ñ‡Ñ‚Ð¾ Ð²Ð°Ð¼ Ð²Ð¾Ð·Ð²Ñ€Ð°Ñ‰Ð°ÑŽÑ‚ÑÑ Ð²ÐµÑ€Ð¾ÑÑ‚Ð½Ð¾ÑÑ‚Ð¸ Ð´Ð»Ñ 2 ÐºÐ»Ð°ÑÑÐ¾Ð²"
   ]
  },
  {
   "cell_type": "code",
   "execution_count": null,
   "metadata": {},
   "outputs": [],
   "source": [
    "#Ð’Ð°Ñˆ ÐºÐ¾Ð´ Ð·Ð´ÐµÑÑŒ\n"
   ]
  },
  {
   "cell_type": "markdown",
   "metadata": {},
   "source": [
    "##### 15. ÐŸÐ¾ÑÑ‡Ð¸Ñ‚Ð°Ð¹Ñ‚Ðµ Ð¼ÐµÑ‚Ñ€Ð¸ÐºÐ¸ ÐºÐ°Ñ‡ÐµÑÑ‚Ð²Ð° Ð¿Ð¾Ð»ÑƒÑ‡Ð¸Ð²ÑˆÐµÐ¹ÑÑ Ð¼Ð¾Ð´ÐµÐ»Ð¸ (roc_auc, logloss)"
   ]
  },
  {
   "cell_type": "code",
   "execution_count": null,
   "metadata": {},
   "outputs": [],
   "source": [
    "from sklearn.metrics import roc_auc_score, log_loss\n",
    "\n",
    "#Ð’Ð°Ñˆ ÐºÐ¾Ð´ Ð·Ð´ÐµÑÑŒ\n"
   ]
  },
  {
   "cell_type": "markdown",
   "metadata": {},
   "source": [
    "### Ð¡Ð¾Ñ…Ñ€Ð°Ð½Ð¸Ð¼ Ð½Ð°Ñˆ Ð¿Ð°Ð¹Ð¿Ð»Ð°Ð¹Ð½"
   ]
  },
  {
   "cell_type": "code",
   "execution_count": null,
   "metadata": {},
   "outputs": [],
   "source": [
    "import dill\n",
    "with open(\"model_RF.dill\", \"wb\") as f:\n",
    "    dill.dump(pipeline, f)"
   ]
  },
  {
   "cell_type": "code",
   "execution_count": null,
   "metadata": {},
   "outputs": [],
   "source": []
  }
 ],
 "metadata": {
  "kernelspec": {
   "display_name": "Python 3",
   "language": "python",
   "name": "python3"
  },
  "language_info": {
   "codemirror_mode": {
    "name": "ipython",
    "version": 3
   },
   "file_extension": ".py",
   "mimetype": "text/x-python",
   "name": "python",
   "nbconvert_exporter": "python",
   "pygments_lexer": "ipython3",
   "version": "3.7.1"
  }
 },
 "nbformat": 4,
 "nbformat_minor": 2
}
